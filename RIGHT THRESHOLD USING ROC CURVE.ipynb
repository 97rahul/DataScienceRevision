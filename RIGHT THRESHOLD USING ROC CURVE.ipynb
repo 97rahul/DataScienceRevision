{
 "cells": [
  {
   "cell_type": "markdown",
   "id": "d6f9b6f7",
   "metadata": {},
   "source": [
    "# RIGHT THRESHOLD USING ROC CURVE"
   ]
  },
  {
   "cell_type": "code",
   "execution_count": 1,
   "id": "2438db57",
   "metadata": {},
   "outputs": [],
   "source": [
    "import numpy as np\n",
    "import pandas as pd\n",
    "import matplotlib.pyplot as plt\n",
    "import seaborn as sns\n",
    "\n",
    "from sklearn.datasets import make_classification"
   ]
  },
  {
   "cell_type": "code",
   "execution_count": 2,
   "id": "768bbec6",
   "metadata": {},
   "outputs": [],
   "source": [
    "X,Y = make_classification(n_samples=2000, n_classes=2, weights=[1,1], random_state=1)"
   ]
  },
  {
   "cell_type": "code",
   "execution_count": 6,
   "id": "882ecfea",
   "metadata": {},
   "outputs": [
    {
     "data": {
      "text/plain": [
       "array([[-0.62070677,  1.39769519,  0.1034997 , ..., -0.34409714,\n",
       "         0.62197727, -1.79645246],\n",
       "       [ 0.90592186,  1.9199751 , -0.7783715 , ..., -1.30560469,\n",
       "        -1.54476766, -0.24532071],\n",
       "       [ 0.27902104,  0.85887666,  1.20780417, ...,  2.50374447,\n",
       "        -0.16497195, -1.95912025],\n",
       "       ...,\n",
       "       [ 0.40426899, -0.61988039,  0.87588292, ...,  0.61529851,\n",
       "         0.97573222,  1.77717222],\n",
       "       [-0.02512151, -1.05618212, -0.2345739 , ..., -1.6839064 ,\n",
       "        -0.33327389,  1.13979455],\n",
       "       [-1.46739126, -0.12314487,  0.66858242, ...,  1.92945851,\n",
       "        -0.97878106, -2.77522263]])"
      ]
     },
     "execution_count": 6,
     "metadata": {},
     "output_type": "execute_result"
    }
   ],
   "source": [
    "X"
   ]
  },
  {
   "cell_type": "code",
   "execution_count": 5,
   "id": "889ab342",
   "metadata": {},
   "outputs": [
    {
     "data": {
      "text/plain": [
       "(2000, 20)"
      ]
     },
     "execution_count": 5,
     "metadata": {},
     "output_type": "execute_result"
    }
   ],
   "source": [
    "X.shape"
   ]
  },
  {
   "cell_type": "code",
   "execution_count": 7,
   "id": "d6e7d80e",
   "metadata": {},
   "outputs": [
    {
     "data": {
      "text/plain": [
       "array([0, 0, 0, ..., 1, 1, 0])"
      ]
     },
     "execution_count": 7,
     "metadata": {},
     "output_type": "execute_result"
    }
   ],
   "source": [
    "Y"
   ]
  },
  {
   "cell_type": "code",
   "execution_count": 10,
   "id": "5038e98c",
   "metadata": {},
   "outputs": [],
   "source": [
    "from sklearn.model_selection import train_test_split\n",
    "\n",
    "X_train,X_test,y_train,y_test = train_test_split(X, Y, test_size=0.3, random_state=0)"
   ]
  },
  {
   "cell_type": "code",
   "execution_count": 21,
   "id": "1ab32ac1",
   "metadata": {},
   "outputs": [
    {
     "name": "stdout",
     "output_type": "stream",
     "text": [
      "RF train roc-auc: 1.0\n",
      "RF test roc-auc: 0.9812481248124811\n"
     ]
    }
   ],
   "source": [
    "from sklearn.metrics import roc_curve,roc_auc_score\n",
    "\n",
    "## RandomForest\n",
    "\n",
    "from sklearn.ensemble import RandomForestClassifier\n",
    "model1 = RandomForestClassifier()\n",
    "model1.fit(X_train,y_train)\n",
    "ytrain_pred = model1.predict_proba(X_train)\n",
    "print('RF train roc-auc: {}'.format(roc_auc_score(y_train, ytrain_pred[:,1])))\n",
    "ytest_pred = model1.predict_proba(X_test)\n",
    "print('RF test roc-auc: {}'.format(roc_auc_score(y_test,ytest_pred[:,1])))"
   ]
  },
  {
   "cell_type": "code",
   "execution_count": 22,
   "id": "d5e3b4a4",
   "metadata": {},
   "outputs": [
    {
     "data": {
      "text/plain": [
       "array([[0.94, 0.06],\n",
       "       [1.  , 0.  ],\n",
       "       [0.07, 0.93],\n",
       "       ...,\n",
       "       [1.  , 0.  ],\n",
       "       [0.11, 0.89],\n",
       "       [0.78, 0.22]])"
      ]
     },
     "execution_count": 22,
     "metadata": {},
     "output_type": "execute_result"
    }
   ],
   "source": [
    "ytest_pred"
   ]
  },
  {
   "cell_type": "code",
   "execution_count": 23,
   "id": "0bfb9066",
   "metadata": {},
   "outputs": [
    {
     "name": "stdout",
     "output_type": "stream",
     "text": [
      "RF train roc-auc: 0.9876816326530612\n",
      "RF test roc-auc: 0.9855763354113188\n"
     ]
    }
   ],
   "source": [
    "## Logistic Regression\n",
    "\n",
    "from sklearn.linear_model import LogisticRegression\n",
    "model2=LogisticRegression()\n",
    "model2.fit(X_train,y_train)\n",
    "ytrain_pred = model2.predict_proba(X_train)\n",
    "print('RF train roc-auc: {}'.format(roc_auc_score(y_train, ytrain_pred[:,1])))\n",
    "ytest_pred = model2.predict_proba(X_test)\n",
    "print('RF test roc-auc: {}'.format(roc_auc_score(y_test,ytest_pred[:,1])))"
   ]
  },
  {
   "cell_type": "code",
   "execution_count": 24,
   "id": "3529e843",
   "metadata": {},
   "outputs": [
    {
     "name": "stdout",
     "output_type": "stream",
     "text": [
      "RF train roc-auc: 0.9971469387755102\n",
      "RF test roc-auc: 0.9744530008556412\n"
     ]
    }
   ],
   "source": [
    "## AdaBoostClassifier\n",
    "\n",
    "from sklearn.ensemble import AdaBoostClassifier\n",
    "model3=AdaBoostClassifier()\n",
    "model3.fit(X_train,y_train)\n",
    "ytrain_pred = model3.predict_proba(X_train)\n",
    "print('RF train roc-auc: {}'.format(roc_auc_score(y_train, ytrain_pred[:,1])))\n",
    "ytest_pred = model3.predict_proba(X_test)\n",
    "print('RF test roc-auc: {}'.format(roc_auc_score(y_test,ytest_pred[:,1])))"
   ]
  },
  {
   "cell_type": "code",
   "execution_count": 25,
   "id": "638beb92",
   "metadata": {},
   "outputs": [
    {
     "name": "stdout",
     "output_type": "stream",
     "text": [
      "RF train roc-auc: 0.9800673469387755\n",
      "RF test roc-auc: 0.9470780411374472\n"
     ]
    }
   ],
   "source": [
    "## KNN Classifier\n",
    "\n",
    "from sklearn.neighbors import KNeighborsClassifier\n",
    "model4=KNeighborsClassifier()\n",
    "model4.fit(X_train,y_train)\n",
    "ytrain_pred = model4.predict_proba(X_train)\n",
    "print('RF train roc-auc: {}'.format(roc_auc_score(y_train, ytrain_pred[:,1])))\n",
    "ytest_pred = model4.predict_proba(X_test)\n",
    "print('RF test roc-auc: {}'.format(roc_auc_score(y_test,ytest_pred[:,1])))"
   ]
  },
  {
   "cell_type": "code",
   "execution_count": 26,
   "id": "8b3913eb",
   "metadata": {},
   "outputs": [],
   "source": [
    "pred = []\n",
    "for m in [model1,model2,model3,model4]:\n",
    "    pred.append(pd.Series(m.predict_proba(X_test)[:,1]))"
   ]
  },
  {
   "cell_type": "code",
   "execution_count": 27,
   "id": "ce740eef",
   "metadata": {},
   "outputs": [
    {
     "data": {
      "text/plain": [
       "[0      0.06\n",
       " 1      0.00\n",
       " 2      0.93\n",
       " 3      0.01\n",
       " 4      0.93\n",
       "        ... \n",
       " 595    0.02\n",
       " 596    0.32\n",
       " 597    0.00\n",
       " 598    0.89\n",
       " 599    0.22\n",
       " Length: 600, dtype: float64,\n",
       " 0      3.648336e-02\n",
       " 1      2.312949e-02\n",
       " 2      9.507146e-01\n",
       " 3      1.964157e-03\n",
       " 4      9.583813e-01\n",
       "            ...     \n",
       " 595    7.765486e-07\n",
       " 596    2.948489e-01\n",
       " 597    6.389609e-06\n",
       " 598    8.878461e-01\n",
       " 599    1.490575e-03\n",
       " Length: 600, dtype: float64,\n",
       " 0      0.465444\n",
       " 1      0.460287\n",
       " 2      0.529213\n",
       " 3      0.444351\n",
       " 4      0.527071\n",
       "          ...   \n",
       " 595    0.479692\n",
       " 596    0.505403\n",
       " 597    0.437920\n",
       " 598    0.530501\n",
       " 599    0.478267\n",
       " Length: 600, dtype: float64,\n",
       " 0      0.2\n",
       " 1      0.4\n",
       " 2      1.0\n",
       " 3      0.0\n",
       " 4      0.6\n",
       "       ... \n",
       " 595    0.0\n",
       " 596    0.6\n",
       " 597    0.0\n",
       " 598    0.4\n",
       " 599    0.2\n",
       " Length: 600, dtype: float64]"
      ]
     },
     "execution_count": 27,
     "metadata": {},
     "output_type": "execute_result"
    }
   ],
   "source": [
    "pred"
   ]
  },
  {
   "cell_type": "code",
   "execution_count": 28,
   "id": "5e54d8b9",
   "metadata": {},
   "outputs": [],
   "source": [
    "final_pred = pd.concat(pred,axis=1).mean(axis = 1)"
   ]
  },
  {
   "cell_type": "code",
   "execution_count": 29,
   "id": "19272ec8",
   "metadata": {},
   "outputs": [
    {
     "data": {
      "text/plain": [
       "0      0.190482\n",
       "1      0.220854\n",
       "2      0.852482\n",
       "3      0.114079\n",
       "4      0.753863\n",
       "         ...   \n",
       "595    0.124923\n",
       "596    0.430063\n",
       "597    0.109482\n",
       "598    0.677087\n",
       "599    0.224939\n",
       "Length: 600, dtype: float64"
      ]
     },
     "execution_count": 29,
     "metadata": {},
     "output_type": "execute_result"
    }
   ],
   "source": [
    "final_pred"
   ]
  },
  {
   "cell_type": "code",
   "execution_count": 30,
   "id": "df2baa8e",
   "metadata": {},
   "outputs": [
    {
     "name": "stdout",
     "output_type": "stream",
     "text": [
      "RF test roc-auc: 0.9820870975986488\n"
     ]
    }
   ],
   "source": [
    "print('RF test roc-auc: {}'.format(roc_auc_score(y_test,final_pred)))"
   ]
  },
  {
   "cell_type": "code",
   "execution_count": 31,
   "id": "78ee1fdf",
   "metadata": {},
   "outputs": [],
   "source": [
    "fpr,tpr,thresholds = roc_curve(y_test,final_pred)"
   ]
  },
  {
   "cell_type": "code",
   "execution_count": 32,
   "id": "ce2a9320",
   "metadata": {},
   "outputs": [
    {
     "data": {
      "text/plain": [
       "array([1.89041967, 0.89041967, 0.88550467, 0.88543953, 0.85002997,\n",
       "       0.8455096 , 0.81979086, 0.81943271, 0.79811204, 0.79789423,\n",
       "       0.78621466, 0.78211698, 0.76315537, 0.7621604 , 0.75386306,\n",
       "       0.75306488, 0.75209728, 0.75159746, 0.7356223 , 0.73440628,\n",
       "       0.72738363, 0.72229835, 0.69696242, 0.69664051, 0.65908404,\n",
       "       0.65356987, 0.58919907, 0.58501651, 0.5767846 , 0.56042405,\n",
       "       0.55119648, 0.54704108, 0.50869184, 0.49881384, 0.49291005,\n",
       "       0.45636699, 0.4473743 , 0.27976654, 0.27851177, 0.13905293,\n",
       "       0.13777874, 0.11809324, 0.11805224, 0.105838  ])"
      ]
     },
     "execution_count": 32,
     "metadata": {},
     "output_type": "execute_result"
    }
   ],
   "source": [
    "thresholds"
   ]
  },
  {
   "cell_type": "code",
   "execution_count": 35,
   "id": "b252017e",
   "metadata": {},
   "outputs": [],
   "source": [
    "from sklearn.metrics import accuracy_score\n",
    "\n",
    "accuracy_ls = []\n",
    "for thres in thresholds:\n",
    "    y_pred = np.where(final_pred>thres,1,0)\n",
    "    accuracy_ls.append(accuracy_score(y_test, y_pred, normalize=True))    "
   ]
  },
  {
   "cell_type": "code",
   "execution_count": 36,
   "id": "cad3f0d7",
   "metadata": {},
   "outputs": [
    {
     "data": {
      "text/plain": [
       "[0.495,\n",
       " 0.495,\n",
       " 0.505,\n",
       " 0.5066666666666667,\n",
       " 0.6966666666666667,\n",
       " 0.6983333333333334,\n",
       " 0.7766666666666666,\n",
       " 0.7783333333333333,\n",
       " 0.84,\n",
       " 0.8416666666666667,\n",
       " 0.845,\n",
       " 0.8466666666666667,\n",
       " 0.8716666666666667,\n",
       " 0.8733333333333333,\n",
       " 0.8833333333333333,\n",
       " 0.885,\n",
       " 0.885,\n",
       " 0.8866666666666667,\n",
       " 0.9016666666666666,\n",
       " 0.9033333333333333,\n",
       " 0.9116666666666666,\n",
       " 0.9133333333333333,\n",
       " 0.9266666666666666,\n",
       " 0.9283333333333333,\n",
       " 0.95,\n",
       " 0.9516666666666667,\n",
       " 0.96,\n",
       " 0.9616666666666667,\n",
       " 0.9633333333333334,\n",
       " 0.9616666666666667,\n",
       " 0.9616666666666667,\n",
       " 0.9633333333333334,\n",
       " 0.9616666666666667,\n",
       " 0.9616666666666667,\n",
       " 0.96,\n",
       " 0.955,\n",
       " 0.9533333333333334,\n",
       " 0.89,\n",
       " 0.8883333333333333,\n",
       " 0.69,\n",
       " 0.6883333333333334,\n",
       " 0.6033333333333334,\n",
       " 0.6016666666666667,\n",
       " 0.5066666666666667]"
      ]
     },
     "execution_count": 36,
     "metadata": {},
     "output_type": "execute_result"
    }
   ],
   "source": [
    "accuracy_ls"
   ]
  },
  {
   "cell_type": "code",
   "execution_count": 37,
   "id": "33f4f5f2",
   "metadata": {},
   "outputs": [
    {
     "data": {
      "text/html": [
       "<div>\n",
       "<style scoped>\n",
       "    .dataframe tbody tr th:only-of-type {\n",
       "        vertical-align: middle;\n",
       "    }\n",
       "\n",
       "    .dataframe tbody tr th {\n",
       "        vertical-align: top;\n",
       "    }\n",
       "\n",
       "    .dataframe thead th {\n",
       "        text-align: right;\n",
       "    }\n",
       "</style>\n",
       "<table border=\"1\" class=\"dataframe\">\n",
       "  <thead>\n",
       "    <tr style=\"text-align: right;\">\n",
       "      <th></th>\n",
       "      <th>thresholds</th>\n",
       "      <th>accuracy</th>\n",
       "    </tr>\n",
       "  </thead>\n",
       "  <tbody>\n",
       "    <tr>\n",
       "      <th>31</th>\n",
       "      <td>0.547041</td>\n",
       "      <td>0.963333</td>\n",
       "    </tr>\n",
       "    <tr>\n",
       "      <th>28</th>\n",
       "      <td>0.576785</td>\n",
       "      <td>0.963333</td>\n",
       "    </tr>\n",
       "    <tr>\n",
       "      <th>30</th>\n",
       "      <td>0.551196</td>\n",
       "      <td>0.961667</td>\n",
       "    </tr>\n",
       "    <tr>\n",
       "      <th>33</th>\n",
       "      <td>0.498814</td>\n",
       "      <td>0.961667</td>\n",
       "    </tr>\n",
       "    <tr>\n",
       "      <th>32</th>\n",
       "      <td>0.508692</td>\n",
       "      <td>0.961667</td>\n",
       "    </tr>\n",
       "  </tbody>\n",
       "</table>\n",
       "</div>"
      ],
      "text/plain": [
       "    thresholds  accuracy\n",
       "31    0.547041  0.963333\n",
       "28    0.576785  0.963333\n",
       "30    0.551196  0.961667\n",
       "33    0.498814  0.961667\n",
       "32    0.508692  0.961667"
      ]
     },
     "execution_count": 37,
     "metadata": {},
     "output_type": "execute_result"
    }
   ],
   "source": [
    "accuracy_ls = pd.concat([pd.Series(thresholds), pd.Series(accuracy_ls)],\n",
    "                        axis=1)\n",
    "accuracy_ls.columns = ['thresholds', 'accuracy']\n",
    "accuracy_ls.sort_values(by='accuracy', ascending=False, inplace=True)\n",
    "accuracy_ls.head()"
   ]
  },
  {
   "cell_type": "code",
   "execution_count": 39,
   "id": "e575bbbf",
   "metadata": {},
   "outputs": [
    {
     "data": {
      "image/png": "[encoded data removed]",
      "text/plain": [
       "<Figure size 432x288 with 1 Axes>"
      ]
     },
     "metadata": {
      "needs_background": "light"
     },
     "output_type": "display_data"
    }
   ],
   "source": [
    "def plot_roc_curve(fpr, tpr):\n",
    "    plt.plot(fpr, tpr, color='green', label='ROC')\n",
    "    plt.plot([0, 1], [0, 1], color='darkblue', linestyle='--')\n",
    "    plt.xlabel('False Positive Rate')\n",
    "    plt.ylabel('True Positive Rate')\n",
    "    plt.title('Receiver Operating Characteristic (ROC) Curve')\n",
    "    plt.legend()\n",
    "    plt.show()\n",
    "    \n",
    "plot_roc_curve(fpr,tpr)"
   ]
  },
  {
   "cell_type": "code",
   "execution_count": null,
   "id": "32bee21b",
   "metadata": {},
   "outputs": [],
   "source": []
  }
 ],
 "metadata": {
  "kernelspec": {
   "display_name": "Python 3",
   "language": "python",
   "name": "python3"
  },
  "language_info": {
   "codemirror_mode": {
    "name": "ipython",
    "version": 3
   },
   "file_extension": ".py",
   "mimetype": "text/x-python",
   "name": "python",
   "nbconvert_exporter": "python",
   "pygments_lexer": "ipython3",
   "version": "3.8.8"
  }
 },
 "nbformat": 4,
 "nbformat_minor": 5
}
